{
 "cells": [
  {
   "cell_type": "markdown",
   "metadata": {},
   "source": [
    "# Data Exploration"
   ]
  },
  {
   "cell_type": "markdown",
   "metadata": {},
   "source": [
    "## Instructions\n",
    "There are some data files related to transaction saved under the [data](../data) folder:\n",
    "- Looking into the data using appropriate functions and extract the fields in the data.\n",
    "- For each data, describe what the data is about and what fields are saved.\n",
    "\n",
    "You need to answer the questions and perform the task below:\n",
    "- How many transactions are in GBP?\n",
    "- How many transactions are NOT in USD?\n",
    "- What is the average and mediam transaction in USD?\n",
    "- Construct a table showing the number of transactions in EACH currency\n",
    "\n",
    "Note:\n",
    "- You are NOT ALLOWED to import other library or package\n",
    "- You can write you own functions\n",
    "- Your answers should be readable with approprate comments\n",
    "- You can refer to [markdown cheatsheet](https://github.com/adam-p/markdown-here/wiki/Markdown-Cheatsheet) if you are not familar with Markdown"
   ]
  },
  {
   "cell_type": "markdown",
   "metadata": {},
   "source": [
    "## Import libraries "
   ]
  },
  {
   "cell_type": "code",
   "execution_count": 1,
   "metadata": {},
   "outputs": [],
   "source": [
    "# Usual libraries are imported here\n",
    "import os\n",
    "import yaml\n",
    "import dask.dataframe as dd\n",
    "import pandas as pd\n",
    "import matplotlib\n",
    "import numpy as np\n",
    "import matplotlib.pyplot as plt\n",
    "%matplotlib inline"
   ]
  },
  {
   "cell_type": "markdown",
   "metadata": {},
   "source": [
    "## Please perform your tasks below and answer the questions"
   ]
  },
  {
   "cell_type": "markdown",
   "metadata": {},
   "source": [
    "read country infomation"
   ]
  },
  {
   "cell_type": "code",
   "execution_count": 7,
   "metadata": {},
   "outputs": [
    {
     "data": {
      "text/html": [
       "<div>\n",
       "<style scoped>\n",
       "    .dataframe tbody tr th:only-of-type {\n",
       "        vertical-align: middle;\n",
       "    }\n",
       "\n",
       "    .dataframe tbody tr th {\n",
       "        vertical-align: top;\n",
       "    }\n",
       "\n",
       "    .dataframe thead th {\n",
       "        text-align: right;\n",
       "    }\n",
       "</style>\n",
       "<table border=\"1\" class=\"dataframe\">\n",
       "  <thead>\n",
       "    <tr style=\"text-align: right;\">\n",
       "      <th></th>\n",
       "      <th>CODE</th>\n",
       "      <th>NAME</th>\n",
       "      <th>CODE3</th>\n",
       "      <th>NUMCODE</th>\n",
       "      <th>PHONECODE</th>\n",
       "    </tr>\n",
       "  </thead>\n",
       "  <tbody>\n",
       "    <tr>\n",
       "      <th>0</th>\n",
       "      <td>AF</td>\n",
       "      <td>Afghanistan</td>\n",
       "      <td>AFG</td>\n",
       "      <td>4</td>\n",
       "      <td>93</td>\n",
       "    </tr>\n",
       "    <tr>\n",
       "      <th>1</th>\n",
       "      <td>AL</td>\n",
       "      <td>Albania</td>\n",
       "      <td>ALB</td>\n",
       "      <td>8</td>\n",
       "      <td>355</td>\n",
       "    </tr>\n",
       "    <tr>\n",
       "      <th>2</th>\n",
       "      <td>DZ</td>\n",
       "      <td>Algeria</td>\n",
       "      <td>DZA</td>\n",
       "      <td>12</td>\n",
       "      <td>213</td>\n",
       "    </tr>\n",
       "    <tr>\n",
       "      <th>3</th>\n",
       "      <td>AS</td>\n",
       "      <td>American Samoa</td>\n",
       "      <td>ASM</td>\n",
       "      <td>16</td>\n",
       "      <td>1684</td>\n",
       "    </tr>\n",
       "    <tr>\n",
       "      <th>4</th>\n",
       "      <td>AO</td>\n",
       "      <td>Angola</td>\n",
       "      <td>AGO</td>\n",
       "      <td>24</td>\n",
       "      <td>244</td>\n",
       "    </tr>\n",
       "    <tr>\n",
       "      <th>5</th>\n",
       "      <td>AI</td>\n",
       "      <td>Anguilla</td>\n",
       "      <td>AIA</td>\n",
       "      <td>660</td>\n",
       "      <td>1264</td>\n",
       "    </tr>\n",
       "    <tr>\n",
       "      <th>6</th>\n",
       "      <td>AG</td>\n",
       "      <td>Antigua and  Barbuda</td>\n",
       "      <td>ATG</td>\n",
       "      <td>28</td>\n",
       "      <td>1268</td>\n",
       "    </tr>\n",
       "    <tr>\n",
       "      <th>7</th>\n",
       "      <td>AR</td>\n",
       "      <td>Argentina</td>\n",
       "      <td>ARG</td>\n",
       "      <td>32</td>\n",
       "      <td>54</td>\n",
       "    </tr>\n",
       "    <tr>\n",
       "      <th>8</th>\n",
       "      <td>AM</td>\n",
       "      <td>Armenia</td>\n",
       "      <td>ARM</td>\n",
       "      <td>51</td>\n",
       "      <td>374</td>\n",
       "    </tr>\n",
       "    <tr>\n",
       "      <th>9</th>\n",
       "      <td>AW</td>\n",
       "      <td>Aruba</td>\n",
       "      <td>ABW</td>\n",
       "      <td>533</td>\n",
       "      <td>297</td>\n",
       "    </tr>\n",
       "  </tbody>\n",
       "</table>\n",
       "</div>"
      ],
      "text/plain": [
       "  CODE                  NAME CODE3  NUMCODE  PHONECODE\n",
       "0   AF           Afghanistan   AFG        4         93\n",
       "1   AL               Albania   ALB        8        355\n",
       "2   DZ               Algeria   DZA       12        213\n",
       "3   AS        American Samoa   ASM       16       1684\n",
       "4   AO                Angola   AGO       24        244\n",
       "5   AI              Anguilla   AIA      660       1264\n",
       "6   AG  Antigua and  Barbuda   ATG       28       1268\n",
       "7   AR             Argentina   ARG       32         54\n",
       "8   AM               Armenia   ARM       51        374\n",
       "9   AW                 Aruba   ABW      533        297"
      ]
     },
     "execution_count": 7,
     "metadata": {},
     "output_type": "execute_result"
    }
   ],
   "source": [
    "\n",
    "\n",
    "countries = pd.read_csv('../project_V/countries.csv')\n",
    "countries.head(10)"
   ]
  },
  {
   "cell_type": "code",
   "execution_count": 9,
   "metadata": {},
   "outputs": [
    {
     "name": "stdout",
     "output_type": "stream",
     "text": [
      "<class 'pandas.core.frame.DataFrame'>\n",
      "RangeIndex: 226 entries, 0 to 225\n",
      "Data columns (total 5 columns):\n",
      "CODE         225 non-null object\n",
      "NAME         226 non-null object\n",
      "CODE3        226 non-null object\n",
      "NUMCODE      226 non-null int64\n",
      "PHONECODE    226 non-null int64\n",
      "dtypes: int64(2), object(3)\n",
      "memory usage: 8.9+ KB\n"
     ]
    }
   ],
   "source": [
    "countries.info()"
   ]
  },
  {
   "cell_type": "markdown",
   "metadata": {},
   "source": [
    "read currency infomation"
   ]
  },
  {
   "cell_type": "code",
   "execution_count": 13,
   "metadata": {},
   "outputs": [
    {
     "data": {
      "text/html": [
       "<div>\n",
       "<style scoped>\n",
       "    .dataframe tbody tr th:only-of-type {\n",
       "        vertical-align: middle;\n",
       "    }\n",
       "\n",
       "    .dataframe tbody tr th {\n",
       "        vertical-align: top;\n",
       "    }\n",
       "\n",
       "    .dataframe thead th {\n",
       "        text-align: right;\n",
       "    }\n",
       "</style>\n",
       "<table border=\"1\" class=\"dataframe\">\n",
       "  <thead>\n",
       "    <tr style=\"text-align: right;\">\n",
       "      <th></th>\n",
       "      <th>CCY</th>\n",
       "      <th>EXPONENT</th>\n",
       "      <th>IS_CRYPTO</th>\n",
       "    </tr>\n",
       "  </thead>\n",
       "  <tbody>\n",
       "    <tr>\n",
       "      <th>0</th>\n",
       "      <td>AED</td>\n",
       "      <td>2</td>\n",
       "      <td>False</td>\n",
       "    </tr>\n",
       "    <tr>\n",
       "      <th>1</th>\n",
       "      <td>AFN</td>\n",
       "      <td>2</td>\n",
       "      <td>False</td>\n",
       "    </tr>\n",
       "    <tr>\n",
       "      <th>2</th>\n",
       "      <td>ALL</td>\n",
       "      <td>2</td>\n",
       "      <td>False</td>\n",
       "    </tr>\n",
       "    <tr>\n",
       "      <th>3</th>\n",
       "      <td>AMD</td>\n",
       "      <td>2</td>\n",
       "      <td>False</td>\n",
       "    </tr>\n",
       "    <tr>\n",
       "      <th>4</th>\n",
       "      <td>ANG</td>\n",
       "      <td>2</td>\n",
       "      <td>False</td>\n",
       "    </tr>\n",
       "    <tr>\n",
       "      <th>5</th>\n",
       "      <td>AOA</td>\n",
       "      <td>2</td>\n",
       "      <td>False</td>\n",
       "    </tr>\n",
       "    <tr>\n",
       "      <th>6</th>\n",
       "      <td>ARS</td>\n",
       "      <td>2</td>\n",
       "      <td>False</td>\n",
       "    </tr>\n",
       "    <tr>\n",
       "      <th>7</th>\n",
       "      <td>AUD</td>\n",
       "      <td>2</td>\n",
       "      <td>False</td>\n",
       "    </tr>\n",
       "    <tr>\n",
       "      <th>8</th>\n",
       "      <td>AWG</td>\n",
       "      <td>2</td>\n",
       "      <td>False</td>\n",
       "    </tr>\n",
       "    <tr>\n",
       "      <th>9</th>\n",
       "      <td>AZN</td>\n",
       "      <td>2</td>\n",
       "      <td>False</td>\n",
       "    </tr>\n",
       "  </tbody>\n",
       "</table>\n",
       "</div>"
      ],
      "text/plain": [
       "   CCY  EXPONENT  IS_CRYPTO\n",
       "0  AED         2      False\n",
       "1  AFN         2      False\n",
       "2  ALL         2      False\n",
       "3  AMD         2      False\n",
       "4  ANG         2      False\n",
       "5  AOA         2      False\n",
       "6  ARS         2      False\n",
       "7  AUD         2      False\n",
       "8  AWG         2      False\n",
       "9  AZN         2      False"
      ]
     },
     "execution_count": 13,
     "metadata": {},
     "output_type": "execute_result"
    }
   ],
   "source": [
    "currency = pd.read_csv('../project_V//currency_details.csv')\n",
    "currency.head(10)"
   ]
  },
  {
   "cell_type": "markdown",
   "metadata": {},
   "source": [
    "## read transactions infomation (related to the task)"
   ]
  },
  {
   "cell_type": "code",
   "execution_count": 2,
   "metadata": {},
   "outputs": [
    {
     "data": {
      "text/html": [
       "<div>\n",
       "<style scoped>\n",
       "    .dataframe tbody tr th:only-of-type {\n",
       "        vertical-align: middle;\n",
       "    }\n",
       "\n",
       "    .dataframe tbody tr th {\n",
       "        vertical-align: top;\n",
       "    }\n",
       "\n",
       "    .dataframe thead th {\n",
       "        text-align: right;\n",
       "    }\n",
       "</style>\n",
       "<table border=\"1\" class=\"dataframe\">\n",
       "  <thead>\n",
       "    <tr style=\"text-align: right;\">\n",
       "      <th></th>\n",
       "      <th>CURRENCY</th>\n",
       "      <th>AMOUNT</th>\n",
       "      <th>STATE</th>\n",
       "      <th>CREATED_DATE</th>\n",
       "      <th>MERCHANT_CATEGORY</th>\n",
       "      <th>MERCHANT_COUNTRY</th>\n",
       "      <th>ENTRY_METHOD</th>\n",
       "      <th>USER_ID</th>\n",
       "      <th>TYPE</th>\n",
       "      <th>SOURCE</th>\n",
       "      <th>ID</th>\n",
       "      <th>AMOUNT_USD</th>\n",
       "    </tr>\n",
       "  </thead>\n",
       "  <tbody>\n",
       "    <tr>\n",
       "      <th>0</th>\n",
       "      <td>GBP</td>\n",
       "      <td>175</td>\n",
       "      <td>COMPLETED</td>\n",
       "      <td>2017-12-20 12:46:20.294</td>\n",
       "      <td>cafe</td>\n",
       "      <td>GBR</td>\n",
       "      <td>cont</td>\n",
       "      <td>8f99c254-7cf2-4e35-b7e4-53804d42445d</td>\n",
       "      <td>CARD_PAYMENT</td>\n",
       "      <td>GAIA</td>\n",
       "      <td>b3332e6f-7865-4d6e-b6a5-370bc75568d8</td>\n",
       "      <td>220</td>\n",
       "    </tr>\n",
       "    <tr>\n",
       "      <th>1</th>\n",
       "      <td>EUR</td>\n",
       "      <td>2593</td>\n",
       "      <td>COMPLETED</td>\n",
       "      <td>2017-12-20 12:38:47.232</td>\n",
       "      <td>bar</td>\n",
       "      <td>AUS</td>\n",
       "      <td>cont</td>\n",
       "      <td>ed773c34-2b83-4f70-a691-6a7aa1cb9f11</td>\n",
       "      <td>CARD_PAYMENT</td>\n",
       "      <td>GAIA</td>\n",
       "      <td>853d9ff8-a007-40ef-91a2-7d81e29a309a</td>\n",
       "      <td>2885</td>\n",
       "    </tr>\n",
       "    <tr>\n",
       "      <th>2</th>\n",
       "      <td>EUR</td>\n",
       "      <td>1077</td>\n",
       "      <td>COMPLETED</td>\n",
       "      <td>2017-12-20 12:34:39.668</td>\n",
       "      <td>NaN</td>\n",
       "      <td>CZE</td>\n",
       "      <td>cont</td>\n",
       "      <td>eb349cc1-e986-4bf4-bb75-72280a7b8680</td>\n",
       "      <td>CARD_PAYMENT</td>\n",
       "      <td>GAIA</td>\n",
       "      <td>04de8238-7828-4e46-91f1-050a9aa7a9df</td>\n",
       "      <td>1198</td>\n",
       "    </tr>\n",
       "    <tr>\n",
       "      <th>3</th>\n",
       "      <td>GBP</td>\n",
       "      <td>198</td>\n",
       "      <td>COMPLETED</td>\n",
       "      <td>2017-12-20 12:45:50.555</td>\n",
       "      <td>supermarket</td>\n",
       "      <td>GBR</td>\n",
       "      <td>cont</td>\n",
       "      <td>dc78fbc4-c936-45d3-a813-e2477ac6d74b</td>\n",
       "      <td>CARD_PAYMENT</td>\n",
       "      <td>GAIA</td>\n",
       "      <td>2b790b9b-c312-4098-a4b3-4830fc8cda53</td>\n",
       "      <td>249</td>\n",
       "    </tr>\n",
       "    <tr>\n",
       "      <th>4</th>\n",
       "      <td>EUR</td>\n",
       "      <td>990</td>\n",
       "      <td>COMPLETED</td>\n",
       "      <td>2017-12-20 12:45:32.722</td>\n",
       "      <td>NaN</td>\n",
       "      <td>FRA</td>\n",
       "      <td>cont</td>\n",
       "      <td>32958a5c-2532-42f7-94f9-127f2a812a55</td>\n",
       "      <td>CARD_PAYMENT</td>\n",
       "      <td>GAIA</td>\n",
       "      <td>6469fc3a-e535-41e9-91b9-acb46d1cc65d</td>\n",
       "      <td>1101</td>\n",
       "    </tr>\n",
       "  </tbody>\n",
       "</table>\n",
       "</div>"
      ],
      "text/plain": [
       "  CURRENCY  AMOUNT      STATE             CREATED_DATE MERCHANT_CATEGORY  \\\n",
       "0      GBP     175  COMPLETED  2017-12-20 12:46:20.294              cafe   \n",
       "1      EUR    2593  COMPLETED  2017-12-20 12:38:47.232               bar   \n",
       "2      EUR    1077  COMPLETED  2017-12-20 12:34:39.668               NaN   \n",
       "3      GBP     198  COMPLETED  2017-12-20 12:45:50.555       supermarket   \n",
       "4      EUR     990  COMPLETED  2017-12-20 12:45:32.722               NaN   \n",
       "\n",
       "  MERCHANT_COUNTRY ENTRY_METHOD                               USER_ID  \\\n",
       "0              GBR         cont  8f99c254-7cf2-4e35-b7e4-53804d42445d   \n",
       "1              AUS         cont  ed773c34-2b83-4f70-a691-6a7aa1cb9f11   \n",
       "2              CZE         cont  eb349cc1-e986-4bf4-bb75-72280a7b8680   \n",
       "3              GBR         cont  dc78fbc4-c936-45d3-a813-e2477ac6d74b   \n",
       "4              FRA         cont  32958a5c-2532-42f7-94f9-127f2a812a55   \n",
       "\n",
       "           TYPE SOURCE                                    ID  AMOUNT_USD  \n",
       "0  CARD_PAYMENT   GAIA  b3332e6f-7865-4d6e-b6a5-370bc75568d8         220  \n",
       "1  CARD_PAYMENT   GAIA  853d9ff8-a007-40ef-91a2-7d81e29a309a        2885  \n",
       "2  CARD_PAYMENT   GAIA  04de8238-7828-4e46-91f1-050a9aa7a9df        1198  \n",
       "3  CARD_PAYMENT   GAIA  2b790b9b-c312-4098-a4b3-4830fc8cda53         249  \n",
       "4  CARD_PAYMENT   GAIA  6469fc3a-e535-41e9-91b9-acb46d1cc65d        1101  "
      ]
     },
     "execution_count": 2,
     "metadata": {},
     "output_type": "execute_result"
    }
   ],
   "source": [
    "transactions = pd.read_csv('../project_V/transactions.csv')\n",
    "transactions.head()"
   ]
  },
  {
   "cell_type": "code",
   "execution_count": 18,
   "metadata": {},
   "outputs": [
    {
     "name": "stdout",
     "output_type": "stream",
     "text": [
      "<class 'pandas.core.frame.DataFrame'>\n",
      "RangeIndex: 688651 entries, 0 to 688650\n",
      "Data columns (total 12 columns):\n",
      "CURRENCY             688651 non-null object\n",
      "AMOUNT               688651 non-null int64\n",
      "STATE                688651 non-null object\n",
      "CREATED_DATE         688651 non-null object\n",
      "MERCHANT_CATEGORY    223065 non-null object\n",
      "MERCHANT_COUNTRY     483055 non-null object\n",
      "ENTRY_METHOD         688651 non-null object\n",
      "USER_ID              688651 non-null object\n",
      "TYPE                 688651 non-null object\n",
      "SOURCE               688651 non-null object\n",
      "ID                   688651 non-null object\n",
      "AMOUNT_USD           688651 non-null int64\n",
      "dtypes: int64(2), object(10)\n",
      "memory usage: 63.0+ MB\n"
     ]
    }
   ],
   "source": [
    "transactions.info()"
   ]
  },
  {
   "cell_type": "code",
   "execution_count": 20,
   "metadata": {},
   "outputs": [
    {
     "name": "stdout",
     "output_type": "stream",
     "text": [
      "the number of transactions in GBP is 339091\n"
     ]
    }
   ],
   "source": [
    "q1=transactions[transactions['CURRENCY'] == 'GBP']\n",
    "print('the number of transactions in GBP is', len(q1))"
   ]
  },
  {
   "cell_type": "code",
   "execution_count": 21,
   "metadata": {},
   "outputs": [
    {
     "name": "stdout",
     "output_type": "stream",
     "text": [
      "the number of transactions not in USD is 657109\n"
     ]
    }
   ],
   "source": [
    "q2=transactions[transactions['CURRENCY'] != 'USD']\n",
    "print('the number of transactions not in USD is', len(q2))"
   ]
  },
  {
   "cell_type": "code",
   "execution_count": 6,
   "metadata": {},
   "outputs": [
    {
     "name": "stdout",
     "output_type": "stream",
     "text": [
      "the average of transaction in USD is  11598.75470800837\n",
      "the median of transactions in USD is  2000.0\n"
     ]
    }
   ],
   "source": [
    "q3=transactions[transactions['CURRENCY'] == 'USD']\n",
    "print('the average of transaction in USD is ',np.mean(q3['AMOUNT']))\n",
    "print('the median of transactions in USD is ',np.median(q3['AMOUNT']))"
   ]
  },
  {
   "cell_type": "code",
   "execution_count": 28,
   "metadata": {},
   "outputs": [
    {
     "data": {
      "text/plain": [
       "CURRENCY\n",
       "AED       847\n",
       "AUD      2110\n",
       "BTC       283\n",
       "CAD      1463\n",
       "CHF      5761\n",
       "CZK      1507\n",
       "DKK      1711\n",
       "ETH       197\n",
       "EUR    264695\n",
       "GBP    339091\n",
       "HKD       480\n",
       "HUF      1446\n",
       "ILS       522\n",
       "INR       207\n",
       "JPY       733\n",
       "LTC       137\n",
       "MAD       115\n",
       "NOK      2602\n",
       "NZD       717\n",
       "PLN     22362\n",
       "QAR        28\n",
       "RON      5837\n",
       "SEK      1579\n",
       "SGD       487\n",
       "THB       690\n",
       "TRY       338\n",
       "USD     31542\n",
       "XRP        38\n",
       "ZAR      1126\n",
       "dtype: int64"
      ]
     },
     "execution_count": 28,
     "metadata": {},
     "output_type": "execute_result"
    }
   ],
   "source": [
    "q4=transactions.groupby('CURRENCY')\n",
    "q4.size()"
   ]
  }
 ],
 "metadata": {
  "kernelspec": {
   "display_name": "Python 3",
   "language": "python",
   "name": "python3"
  },
  "language_info": {
   "codemirror_mode": {
    "name": "ipython",
    "version": 3
   },
   "file_extension": ".py",
   "mimetype": "text/x-python",
   "name": "python",
   "nbconvert_exporter": "python",
   "pygments_lexer": "ipython3",
   "version": "3.7.3"
  }
 },
 "nbformat": 4,
 "nbformat_minor": 4
}
