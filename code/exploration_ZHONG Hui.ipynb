{
 "cells": [
  {
   "cell_type": "markdown",
   "metadata": {},
   "source": [
    "# Data Exploration"
   ]
  },
  {
   "cell_type": "markdown",
   "metadata": {},
   "source": [
    "## Instructions\n",
    "There are some data files related to transaction saved under the [data](../data) folder:\n",
    "- Looking into the data using appropriate functions and extract the fields in the data.\n",
    "- For each data, describe what the data is about and what fields are saved.\n",
    "\n",
    "You need to answer the questions and perform the task below:\n",
    "- How many transactions are in GBP?\n",
    "- How many transactions are NOT in USD?\n",
    "- What is the average and mediam transaction in USD?\n",
    "- Construct a table showing the number of transactions in EACH currency\n",
    "\n",
    "Note:\n",
    "- You are NOT ALLOWED to import other library or package\n",
    "- You can write you own functions\n",
    "- Your answers should be readable with approprate comments\n",
    "- You can refer to [markdown chestsheet](https://github.com/adam-p/markdown-here/wiki/Markdown-Cheatsheet) if you are not familar with Markdown"
   ]
  },
  {
   "cell_type": "markdown",
   "metadata": {},
   "source": [
    "## Import libraries "
   ]
  },
  {
   "cell_type": "code",
   "execution_count": 1,
   "metadata": {},
   "outputs": [],
   "source": [
    "# Usual libraries are imported here\n",
    "import os\n",
    "import yaml\n",
    "import dask.dataframe as dd\n",
    "import pandas as pd\n",
    "import matplotlib\n",
    "import numpy as np\n",
    "import matplotlib.pyplot as plt\n",
    "%matplotlib inline"
   ]
  },
  {
   "cell_type": "markdown",
   "metadata": {},
   "source": [
    "## Please perform your tasks below and answer the questions"
   ]
  },
  {
   "cell_type": "code",
   "execution_count": 2,
   "metadata": {},
   "outputs": [
    {
     "data": {
      "text/plain": [
       "'E:\\\\Jupyter\\\\wang\\\\task\\\\proj_v_explor_and_vis-master\\\\proj_v_explor_and_vis-master\\\\data\\\\transactions'"
      ]
     },
     "execution_count": 2,
     "metadata": {},
     "output_type": "execute_result"
    }
   ],
   "source": [
    "# change workplace\n",
    "os.chdir(\"../data/transactions\")\n",
    "os.getcwd()"
   ]
  },
  {
   "cell_type": "code",
   "execution_count": 3,
   "metadata": {},
   "outputs": [
    {
     "data": {
      "text/html": [
       "<div>\n",
       "<style scoped>\n",
       "    .dataframe tbody tr th:only-of-type {\n",
       "        vertical-align: middle;\n",
       "    }\n",
       "\n",
       "    .dataframe tbody tr th {\n",
       "        vertical-align: top;\n",
       "    }\n",
       "\n",
       "    .dataframe thead th {\n",
       "        text-align: right;\n",
       "    }\n",
       "</style>\n",
       "<table border=\"1\" class=\"dataframe\">\n",
       "  <thead>\n",
       "    <tr style=\"text-align: right;\">\n",
       "      <th></th>\n",
       "      <th>CCY</th>\n",
       "      <th>EXPONENT</th>\n",
       "      <th>IS_CRYPTO</th>\n",
       "    </tr>\n",
       "  </thead>\n",
       "  <tbody>\n",
       "    <tr>\n",
       "      <th>0</th>\n",
       "      <td>AED</td>\n",
       "      <td>2</td>\n",
       "      <td>False</td>\n",
       "    </tr>\n",
       "    <tr>\n",
       "      <th>1</th>\n",
       "      <td>AFN</td>\n",
       "      <td>2</td>\n",
       "      <td>False</td>\n",
       "    </tr>\n",
       "    <tr>\n",
       "      <th>2</th>\n",
       "      <td>ALL</td>\n",
       "      <td>2</td>\n",
       "      <td>False</td>\n",
       "    </tr>\n",
       "    <tr>\n",
       "      <th>3</th>\n",
       "      <td>AMD</td>\n",
       "      <td>2</td>\n",
       "      <td>False</td>\n",
       "    </tr>\n",
       "    <tr>\n",
       "      <th>4</th>\n",
       "      <td>ANG</td>\n",
       "      <td>2</td>\n",
       "      <td>False</td>\n",
       "    </tr>\n",
       "  </tbody>\n",
       "</table>\n",
       "</div>"
      ],
      "text/plain": [
       "   CCY  EXPONENT  IS_CRYPTO\n",
       "0  AED         2      False\n",
       "1  AFN         2      False\n",
       "2  ALL         2      False\n",
       "3  AMD         2      False\n",
       "4  ANG         2      False"
      ]
     },
     "execution_count": 3,
     "metadata": {},
     "output_type": "execute_result"
    }
   ],
   "source": [
    "# read \"currency_details.csv\"\n",
    "df_currency=pd.read_csv('../currency_details.csv',sep=',')\n",
    "df_currency.head()"
   ]
  },
  {
   "cell_type": "code",
   "execution_count": 4,
   "metadata": {},
   "outputs": [
    {
     "data": {
      "text/html": [
       "<div>\n",
       "<style scoped>\n",
       "    .dataframe tbody tr th:only-of-type {\n",
       "        vertical-align: middle;\n",
       "    }\n",
       "\n",
       "    .dataframe tbody tr th {\n",
       "        vertical-align: top;\n",
       "    }\n",
       "\n",
       "    .dataframe thead th {\n",
       "        text-align: right;\n",
       "    }\n",
       "</style>\n",
       "<table border=\"1\" class=\"dataframe\">\n",
       "  <thead>\n",
       "    <tr style=\"text-align: right;\">\n",
       "      <th></th>\n",
       "      <th>CODE</th>\n",
       "      <th>NAME</th>\n",
       "      <th>CODE3</th>\n",
       "      <th>NUMCODE</th>\n",
       "      <th>PHONECODE</th>\n",
       "    </tr>\n",
       "  </thead>\n",
       "  <tbody>\n",
       "    <tr>\n",
       "      <th>0</th>\n",
       "      <td>AF</td>\n",
       "      <td>Afghanistan</td>\n",
       "      <td>AFG</td>\n",
       "      <td>4</td>\n",
       "      <td>93</td>\n",
       "    </tr>\n",
       "    <tr>\n",
       "      <th>1</th>\n",
       "      <td>AL</td>\n",
       "      <td>Albania</td>\n",
       "      <td>ALB</td>\n",
       "      <td>8</td>\n",
       "      <td>355</td>\n",
       "    </tr>\n",
       "    <tr>\n",
       "      <th>2</th>\n",
       "      <td>DZ</td>\n",
       "      <td>Algeria</td>\n",
       "      <td>DZA</td>\n",
       "      <td>12</td>\n",
       "      <td>213</td>\n",
       "    </tr>\n",
       "    <tr>\n",
       "      <th>3</th>\n",
       "      <td>AS</td>\n",
       "      <td>American Samoa</td>\n",
       "      <td>ASM</td>\n",
       "      <td>16</td>\n",
       "      <td>1684</td>\n",
       "    </tr>\n",
       "    <tr>\n",
       "      <th>4</th>\n",
       "      <td>AO</td>\n",
       "      <td>Angola</td>\n",
       "      <td>AGO</td>\n",
       "      <td>24</td>\n",
       "      <td>244</td>\n",
       "    </tr>\n",
       "  </tbody>\n",
       "</table>\n",
       "</div>"
      ],
      "text/plain": [
       "  CODE            NAME CODE3  NUMCODE  PHONECODE\n",
       "0   AF     Afghanistan   AFG        4         93\n",
       "1   AL         Albania   ALB        8        355\n",
       "2   DZ         Algeria   DZA       12        213\n",
       "3   AS  American Samoa   ASM       16       1684\n",
       "4   AO          Angola   AGO       24        244"
      ]
     },
     "execution_count": 4,
     "metadata": {},
     "output_type": "execute_result"
    }
   ],
   "source": [
    "# read \"countries.csv\"\n",
    "df_countries = pd.read_csv('../countries.csv')\n",
    "df_countries.head()"
   ]
  },
  {
   "cell_type": "code",
   "execution_count": 5,
   "metadata": {},
   "outputs": [
    {
     "data": {
      "text/html": [
       "<div>\n",
       "<style scoped>\n",
       "    .dataframe tbody tr th:only-of-type {\n",
       "        vertical-align: middle;\n",
       "    }\n",
       "\n",
       "    .dataframe tbody tr th {\n",
       "        vertical-align: top;\n",
       "    }\n",
       "\n",
       "    .dataframe thead th {\n",
       "        text-align: right;\n",
       "    }\n",
       "</style>\n",
       "<table border=\"1\" class=\"dataframe\">\n",
       "  <thead>\n",
       "    <tr style=\"text-align: right;\">\n",
       "      <th></th>\n",
       "      <th>USER_ID</th>\n",
       "    </tr>\n",
       "  </thead>\n",
       "  <tbody>\n",
       "    <tr>\n",
       "      <th>0</th>\n",
       "      <td>5270b0f4-2e4a-4ec9-8648-2135312ac1c4</td>\n",
       "    </tr>\n",
       "    <tr>\n",
       "      <th>1</th>\n",
       "      <td>848fc1b1-096c-40f7-b04a-1399c469e421</td>\n",
       "    </tr>\n",
       "    <tr>\n",
       "      <th>2</th>\n",
       "      <td>27c76eda-e159-4df3-845a-e13f4e28a8b5</td>\n",
       "    </tr>\n",
       "    <tr>\n",
       "      <th>3</th>\n",
       "      <td>a27088ef-9452-403d-9bbb-f7b10180cdda</td>\n",
       "    </tr>\n",
       "    <tr>\n",
       "      <th>4</th>\n",
       "      <td>fb23710b-609a-49bf-8a9a-be49c59ce6de</td>\n",
       "    </tr>\n",
       "  </tbody>\n",
       "</table>\n",
       "</div>"
      ],
      "text/plain": [
       "                                USER_ID\n",
       "0  5270b0f4-2e4a-4ec9-8648-2135312ac1c4\n",
       "1  848fc1b1-096c-40f7-b04a-1399c469e421\n",
       "2  27c76eda-e159-4df3-845a-e13f4e28a8b5\n",
       "3  a27088ef-9452-403d-9bbb-f7b10180cdda\n",
       "4  fb23710b-609a-49bf-8a9a-be49c59ce6de"
      ]
     },
     "execution_count": 5,
     "metadata": {},
     "output_type": "execute_result"
    }
   ],
   "source": [
    "# read fraudsters.csv\n",
    "df_fraudster = pd.read_csv('../fraudsters.csv')\n",
    "df_fraudster.head()"
   ]
  },
  {
   "cell_type": "code",
   "execution_count": 6,
   "metadata": {},
   "outputs": [
    {
     "data": {
      "text/html": [
       "<div>\n",
       "<style scoped>\n",
       "    .dataframe tbody tr th:only-of-type {\n",
       "        vertical-align: middle;\n",
       "    }\n",
       "\n",
       "    .dataframe tbody tr th {\n",
       "        vertical-align: top;\n",
       "    }\n",
       "\n",
       "    .dataframe thead th {\n",
       "        text-align: right;\n",
       "    }\n",
       "</style>\n",
       "<table border=\"1\" class=\"dataframe\">\n",
       "  <thead>\n",
       "    <tr style=\"text-align: right;\">\n",
       "      <th></th>\n",
       "      <th>ID</th>\n",
       "      <th>HAS_EMAIL</th>\n",
       "      <th>PHONE_COUNTRY</th>\n",
       "      <th>IS_FRAUDSTER</th>\n",
       "      <th>TERMS_VERSION</th>\n",
       "      <th>CREATED_DATE</th>\n",
       "      <th>STATE</th>\n",
       "      <th>COUNTRY</th>\n",
       "      <th>BIRTH_YEAR</th>\n",
       "      <th>KYC</th>\n",
       "      <th>FAILED_SIGN_IN_ATTEMPTS</th>\n",
       "    </tr>\n",
       "  </thead>\n",
       "  <tbody>\n",
       "    <tr>\n",
       "      <th>0</th>\n",
       "      <td>1872820f-e3ac-4c02-bdc7-727897b60043</td>\n",
       "      <td>1</td>\n",
       "      <td>GB||JE||IM||GG</td>\n",
       "      <td>False</td>\n",
       "      <td>2018-05-25</td>\n",
       "      <td>2017-08-06 07:33:33.341000</td>\n",
       "      <td>ACTIVE</td>\n",
       "      <td>GB</td>\n",
       "      <td>1971</td>\n",
       "      <td>PASSED</td>\n",
       "      <td>0</td>\n",
       "    </tr>\n",
       "    <tr>\n",
       "      <th>1</th>\n",
       "      <td>545ff94d-66f8-4bea-b398-84425fb2301e</td>\n",
       "      <td>1</td>\n",
       "      <td>GB||JE||IM||GG</td>\n",
       "      <td>False</td>\n",
       "      <td>2018-01-01</td>\n",
       "      <td>2017-03-07 10:18:59.427000</td>\n",
       "      <td>ACTIVE</td>\n",
       "      <td>GB</td>\n",
       "      <td>1982</td>\n",
       "      <td>PASSED</td>\n",
       "      <td>0</td>\n",
       "    </tr>\n",
       "    <tr>\n",
       "      <th>2</th>\n",
       "      <td>10376f1a-a28a-4885-8daa-c8ca496026bb</td>\n",
       "      <td>1</td>\n",
       "      <td>ES</td>\n",
       "      <td>False</td>\n",
       "      <td>2018-09-20</td>\n",
       "      <td>2018-05-31 04:41:24.672000</td>\n",
       "      <td>ACTIVE</td>\n",
       "      <td>ES</td>\n",
       "      <td>1973</td>\n",
       "      <td>PASSED</td>\n",
       "      <td>0</td>\n",
       "    </tr>\n",
       "    <tr>\n",
       "      <th>3</th>\n",
       "      <td>fd308db7-0753-4377-879f-6ecf2af14e4f</td>\n",
       "      <td>1</td>\n",
       "      <td>FR</td>\n",
       "      <td>False</td>\n",
       "      <td>2018-05-25</td>\n",
       "      <td>2018-06-01 17:24:23.852000</td>\n",
       "      <td>ACTIVE</td>\n",
       "      <td>FR</td>\n",
       "      <td>1986</td>\n",
       "      <td>PASSED</td>\n",
       "      <td>0</td>\n",
       "    </tr>\n",
       "    <tr>\n",
       "      <th>4</th>\n",
       "      <td>755fe256-a34d-4853-b7ca-d9bb991a86d3</td>\n",
       "      <td>1</td>\n",
       "      <td>GB||JE||IM||GG</td>\n",
       "      <td>False</td>\n",
       "      <td>2018-09-20</td>\n",
       "      <td>2017-08-09 15:03:33.945000</td>\n",
       "      <td>ACTIVE</td>\n",
       "      <td>GB</td>\n",
       "      <td>1989</td>\n",
       "      <td>PASSED</td>\n",
       "      <td>0</td>\n",
       "    </tr>\n",
       "  </tbody>\n",
       "</table>\n",
       "</div>"
      ],
      "text/plain": [
       "                                     ID  HAS_EMAIL   PHONE_COUNTRY  \\\n",
       "0  1872820f-e3ac-4c02-bdc7-727897b60043          1  GB||JE||IM||GG   \n",
       "1  545ff94d-66f8-4bea-b398-84425fb2301e          1  GB||JE||IM||GG   \n",
       "2  10376f1a-a28a-4885-8daa-c8ca496026bb          1              ES   \n",
       "3  fd308db7-0753-4377-879f-6ecf2af14e4f          1              FR   \n",
       "4  755fe256-a34d-4853-b7ca-d9bb991a86d3          1  GB||JE||IM||GG   \n",
       "\n",
       "   IS_FRAUDSTER TERMS_VERSION                CREATED_DATE   STATE COUNTRY  \\\n",
       "0         False    2018-05-25  2017-08-06 07:33:33.341000  ACTIVE      GB   \n",
       "1         False    2018-01-01  2017-03-07 10:18:59.427000  ACTIVE      GB   \n",
       "2         False    2018-09-20  2018-05-31 04:41:24.672000  ACTIVE      ES   \n",
       "3         False    2018-05-25  2018-06-01 17:24:23.852000  ACTIVE      FR   \n",
       "4         False    2018-09-20  2017-08-09 15:03:33.945000  ACTIVE      GB   \n",
       "\n",
       "   BIRTH_YEAR     KYC  FAILED_SIGN_IN_ATTEMPTS  \n",
       "0        1971  PASSED                        0  \n",
       "1        1982  PASSED                        0  \n",
       "2        1973  PASSED                        0  \n",
       "3        1986  PASSED                        0  \n",
       "4        1989  PASSED                        0  "
      ]
     },
     "execution_count": 6,
     "metadata": {},
     "output_type": "execute_result"
    }
   ],
   "source": [
    "# read users.csv\n",
    "df_users = pd.read_csv('../users.csv')\n",
    "df_users.head()"
   ]
  },
  {
   "cell_type": "code",
   "execution_count": null,
   "metadata": {},
   "outputs": [],
   "source": []
  },
  {
   "cell_type": "code",
   "execution_count": 7,
   "metadata": {
    "scrolled": true
   },
   "outputs": [
    {
     "data": {
      "text/html": [
       "<div>\n",
       "<style scoped>\n",
       "    .dataframe tbody tr th:only-of-type {\n",
       "        vertical-align: middle;\n",
       "    }\n",
       "\n",
       "    .dataframe tbody tr th {\n",
       "        vertical-align: top;\n",
       "    }\n",
       "\n",
       "    .dataframe thead th {\n",
       "        text-align: right;\n",
       "    }\n",
       "</style>\n",
       "<table border=\"1\" class=\"dataframe\">\n",
       "  <thead>\n",
       "    <tr style=\"text-align: right;\">\n",
       "      <th></th>\n",
       "      <th>CURRENCY</th>\n",
       "      <th>AMOUNT</th>\n",
       "      <th>STATE</th>\n",
       "      <th>CREATED_DATE</th>\n",
       "      <th>MERCHANT_CATEGORY</th>\n",
       "      <th>MERCHANT_COUNTRY</th>\n",
       "      <th>ENTRY_METHOD</th>\n",
       "      <th>USER_ID</th>\n",
       "      <th>TYPE</th>\n",
       "      <th>SOURCE</th>\n",
       "      <th>ID</th>\n",
       "      <th>AMOUNT_USD</th>\n",
       "    </tr>\n",
       "  </thead>\n",
       "  <tbody>\n",
       "    <tr>\n",
       "      <th>0</th>\n",
       "      <td>GBP</td>\n",
       "      <td>175</td>\n",
       "      <td>COMPLETED</td>\n",
       "      <td>2017-12-20 12:46:20.294</td>\n",
       "      <td>cafe</td>\n",
       "      <td>GBR</td>\n",
       "      <td>cont</td>\n",
       "      <td>8f99c254-7cf2-4e35-b7e4-53804d42445d</td>\n",
       "      <td>CARD_PAYMENT</td>\n",
       "      <td>GAIA</td>\n",
       "      <td>b3332e6f-7865-4d6e-b6a5-370bc75568d8</td>\n",
       "      <td>220</td>\n",
       "    </tr>\n",
       "    <tr>\n",
       "      <th>1</th>\n",
       "      <td>EUR</td>\n",
       "      <td>2593</td>\n",
       "      <td>COMPLETED</td>\n",
       "      <td>2017-12-20 12:38:47.232</td>\n",
       "      <td>bar</td>\n",
       "      <td>AUS</td>\n",
       "      <td>cont</td>\n",
       "      <td>ed773c34-2b83-4f70-a691-6a7aa1cb9f11</td>\n",
       "      <td>CARD_PAYMENT</td>\n",
       "      <td>GAIA</td>\n",
       "      <td>853d9ff8-a007-40ef-91a2-7d81e29a309a</td>\n",
       "      <td>2885</td>\n",
       "    </tr>\n",
       "    <tr>\n",
       "      <th>2</th>\n",
       "      <td>EUR</td>\n",
       "      <td>1077</td>\n",
       "      <td>COMPLETED</td>\n",
       "      <td>2017-12-20 12:34:39.668</td>\n",
       "      <td>NaN</td>\n",
       "      <td>CZE</td>\n",
       "      <td>cont</td>\n",
       "      <td>eb349cc1-e986-4bf4-bb75-72280a7b8680</td>\n",
       "      <td>CARD_PAYMENT</td>\n",
       "      <td>GAIA</td>\n",
       "      <td>04de8238-7828-4e46-91f1-050a9aa7a9df</td>\n",
       "      <td>1198</td>\n",
       "    </tr>\n",
       "    <tr>\n",
       "      <th>3</th>\n",
       "      <td>GBP</td>\n",
       "      <td>198</td>\n",
       "      <td>COMPLETED</td>\n",
       "      <td>2017-12-20 12:45:50.555</td>\n",
       "      <td>supermarket</td>\n",
       "      <td>GBR</td>\n",
       "      <td>cont</td>\n",
       "      <td>dc78fbc4-c936-45d3-a813-e2477ac6d74b</td>\n",
       "      <td>CARD_PAYMENT</td>\n",
       "      <td>GAIA</td>\n",
       "      <td>2b790b9b-c312-4098-a4b3-4830fc8cda53</td>\n",
       "      <td>249</td>\n",
       "    </tr>\n",
       "    <tr>\n",
       "      <th>4</th>\n",
       "      <td>EUR</td>\n",
       "      <td>990</td>\n",
       "      <td>COMPLETED</td>\n",
       "      <td>2017-12-20 12:45:32.722</td>\n",
       "      <td>NaN</td>\n",
       "      <td>FRA</td>\n",
       "      <td>cont</td>\n",
       "      <td>32958a5c-2532-42f7-94f9-127f2a812a55</td>\n",
       "      <td>CARD_PAYMENT</td>\n",
       "      <td>GAIA</td>\n",
       "      <td>6469fc3a-e535-41e9-91b9-acb46d1cc65d</td>\n",
       "      <td>1101</td>\n",
       "    </tr>\n",
       "  </tbody>\n",
       "</table>\n",
       "</div>"
      ],
      "text/plain": [
       "  CURRENCY  AMOUNT      STATE             CREATED_DATE MERCHANT_CATEGORY  \\\n",
       "0      GBP     175  COMPLETED  2017-12-20 12:46:20.294              cafe   \n",
       "1      EUR    2593  COMPLETED  2017-12-20 12:38:47.232               bar   \n",
       "2      EUR    1077  COMPLETED  2017-12-20 12:34:39.668               NaN   \n",
       "3      GBP     198  COMPLETED  2017-12-20 12:45:50.555       supermarket   \n",
       "4      EUR     990  COMPLETED  2017-12-20 12:45:32.722               NaN   \n",
       "\n",
       "  MERCHANT_COUNTRY ENTRY_METHOD                               USER_ID  \\\n",
       "0              GBR         cont  8f99c254-7cf2-4e35-b7e4-53804d42445d   \n",
       "1              AUS         cont  ed773c34-2b83-4f70-a691-6a7aa1cb9f11   \n",
       "2              CZE         cont  eb349cc1-e986-4bf4-bb75-72280a7b8680   \n",
       "3              GBR         cont  dc78fbc4-c936-45d3-a813-e2477ac6d74b   \n",
       "4              FRA         cont  32958a5c-2532-42f7-94f9-127f2a812a55   \n",
       "\n",
       "           TYPE SOURCE                                    ID  AMOUNT_USD  \n",
       "0  CARD_PAYMENT   GAIA  b3332e6f-7865-4d6e-b6a5-370bc75568d8         220  \n",
       "1  CARD_PAYMENT   GAIA  853d9ff8-a007-40ef-91a2-7d81e29a309a        2885  \n",
       "2  CARD_PAYMENT   GAIA  04de8238-7828-4e46-91f1-050a9aa7a9df        1198  \n",
       "3  CARD_PAYMENT   GAIA  2b790b9b-c312-4098-a4b3-4830fc8cda53         249  \n",
       "4  CARD_PAYMENT   GAIA  6469fc3a-e535-41e9-91b9-acb46d1cc65d        1101  "
      ]
     },
     "execution_count": 7,
     "metadata": {},
     "output_type": "execute_result"
    }
   ],
   "source": [
    "df_trans = pd.read_csv('transactions.csv')\n",
    "df_trans.head()\n",
    "#print(len(df_trans))\n",
    "## This csv stores information of currency transactions. \n",
    "## CURRENCY: type of the money\n",
    "## AMOUNT: the total transations amount currency\n",
    "## STATE: the transaction's state, completed or not\n",
    "## CREATED_DATE: the time of the transaction happen\n",
    "## MERCHANT_CATEGORY: where did the transaction happen, and what type this transaction belong to\n",
    "## ENTRY_METHOD: \n",
    "## USER_ID: the person's ID who had the transaction\n",
    "## TYPE: the payment method of the transaction\n",
    "## SOURCE: \n",
    "## ID: id of the transaction\n",
    "## AMOUNT_USD: how much is the transaction money(in USD) "
   ]
  },
  {
   "cell_type": "markdown",
   "metadata": {},
   "source": []
  },
  {
   "cell_type": "code",
   "execution_count": 8,
   "metadata": {},
   "outputs": [
    {
     "name": "stdout",
     "output_type": "stream",
     "text": [
      "339091 transactions in GBP\n"
     ]
    }
   ],
   "source": [
    "## how many transactions in GBP?\n",
    "no_GBP = len(df_trans[df_trans['CURRENCY']=='GBP'])\n",
    "print(\"%s transactions in GBP\" % no_GBP)"
   ]
  },
  {
   "cell_type": "code",
   "execution_count": 9,
   "metadata": {},
   "outputs": [
    {
     "name": "stdout",
     "output_type": "stream",
     "text": [
      "657109 transactions NOT in USD\n"
     ]
    }
   ],
   "source": [
    "## how many transactions not in USD?\n",
    "no_not_USD = len(df_trans[df_trans['CURRENCY']!='USD'])\n",
    "print(\"%s transactions NOT in USD\" % no_not_USD)"
   ]
  },
  {
   "cell_type": "code",
   "execution_count": 10,
   "metadata": {},
   "outputs": [
    {
     "data": {
      "text/plain": [
       "339091"
      ]
     },
     "execution_count": 10,
     "metadata": {},
     "output_type": "execute_result"
    }
   ],
   "source": [
    "## define a function to compute the amount of transaction of a particular kind of currency\n",
    "def number_of_transactions(currency):\n",
    "    num = len(df_trans[df_trans['CURRENCY']==currency])\n",
    "    #print(\"%s transactions in %s\" %(num,currency))\n",
    "    return num\n",
    "\n",
    "## Test function\n",
    "number_of_transactions('GBP')\n"
   ]
  },
  {
   "cell_type": "code",
   "execution_count": 34,
   "metadata": {},
   "outputs": [
    {
     "name": "stdout",
     "output_type": "stream",
     "text": [
      "   currency  numbers\n",
      "0       GBP   339091\n",
      "1       EUR   264695\n",
      "2       CHF     5761\n",
      "3       HUF     1446\n",
      "4       TRY      338\n",
      "5       USD    31542\n",
      "6       PLN    22362\n",
      "7       LTC      137\n",
      "8       RON     5837\n",
      "9       DKK     1711\n",
      "10      NZD      717\n",
      "11      AUD     2110\n",
      "12      INR      207\n",
      "13      THB      690\n",
      "14      NOK     2602\n",
      "15      ZAR     1126\n",
      "16      AED      847\n",
      "17      SEK     1579\n",
      "18      QAR       28\n",
      "19      CAD     1463\n",
      "20      ILS      522\n",
      "21      SGD      487\n",
      "22      ETH      197\n",
      "23      BTC      283\n",
      "24      CZK     1507\n",
      "25      JPY      733\n",
      "26      HKD      480\n",
      "27      MAD      115\n",
      "28      XRP       38\n"
     ]
    }
   ],
   "source": [
    "## Construct a table of currency's transactions\n",
    "# get all unique currency type\n",
    "currencys = df_trans['CURRENCY'].unique()\n",
    "numbers = [number_of_transactions(c) for c in currencys]\n",
    "data = {'currency':currencys,\n",
    "       'numbers':numbers}\n",
    "df_table = pd.DataFrame(data)\n",
    "print(df_table)\n",
    "#print(currencys)\n",
    "#print(numbers)"
   ]
  },
  {
   "cell_type": "code",
   "execution_count": 16,
   "metadata": {},
   "outputs": [
    {
     "name": "stdout",
     "output_type": "stream",
     "text": [
      "mean: 11598.75\n",
      "median: 2000.00\n"
     ]
    }
   ],
   "source": [
    "## Average transaction in USD\n",
    "df = df_trans[['CURRENCY','AMOUNT']]\n",
    "usd_df = df[df['CURRENCY']=='USD']\n",
    "#usd_df\n",
    "print(\"mean: %.2f\"%usd_df[['AMOUNT']].mean())\n",
    "print(\"median: %.2f\"%usd_df[['AMOUNT']].median())\n"
   ]
  },
  {
   "cell_type": "markdown",
   "metadata": {},
   "source": []
  }
 ],
 "metadata": {
  "kernelspec": {
   "display_name": "Python 3",
   "language": "python",
   "name": "python3"
  },
  "language_info": {
   "codemirror_mode": {
    "name": "ipython",
    "version": 3
   },
   "file_extension": ".py",
   "mimetype": "text/x-python",
   "name": "python",
   "nbconvert_exporter": "python",
   "pygments_lexer": "ipython3",
   "version": "3.7.0"
  }
 },
 "nbformat": 4,
 "nbformat_minor": 4
}
