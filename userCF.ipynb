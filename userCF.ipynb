{
 "cells": [
  {
   "cell_type": "markdown",
   "metadata": {},
   "source": [
    "UserCF:基于用户的协同过滤算法。<br>\n",
    "UserIIF:改进UserCF中用户相似度的计算。<br>\n",
    "数据来源：movieLens(train.csv训练集 + test.csv测试集) <br>"
   ]
  },
  {
   "cell_type": "code",
   "execution_count": 55,
   "metadata": {},
   "outputs": [],
   "source": [
    "import os\n",
    "import yaml\n",
    "import dask.dataframe as dd\n",
    "import pandas as pd\n",
    "import matplotlib\n",
    "import numpy as np\n",
    "import matplotlib.pyplot as plt\n",
    "import math\n",
    "import csv\n",
    "from operator import itemgetter\n",
    "%matplotlib inline"
   ]
  },
  {
   "cell_type": "code",
   "execution_count": 40,
   "metadata": {},
   "outputs": [],
   "source": [
    "data = pd.read_csv('train.csv')"
   ]
  },
  {
   "cell_type": "code",
   "execution_count": 72,
   "metadata": {},
   "outputs": [
    {
     "data": {
      "text/plain": [
       "{'movieId': 'rating'}"
      ]
     },
     "execution_count": 72,
     "metadata": {},
     "output_type": "execute_result"
    }
   ],
   "source": [
    "## 1.读取训练集\n",
    "train = dict()  # 训练集\n",
    "csvFileName = r'train.csv'\n",
    "with open(csvFileName,'r',encoding='UTF-8') as file:\n",
    "    rows = csv.reader(file)\n",
    "    for row in rows:\n",
    "        if row[3] not in train.keys():\n",
    "            train[row[3]] = {row[0]:row[4]}\n",
    "        else:\n",
    "            train[row[3]][row[0]] = row[4]\n",
    "train.pop('userId')\n",
    "#train\n"
   ]
  },
  {
   "cell_type": "code",
   "execution_count": 1,
   "metadata": {},
   "outputs": [],
   "source": [
    "test_data = {'A':{'a':3,'b':4,'d':5},\n",
    "            'B':{'a':4,'c':4.5},\n",
    "            'C':{'b':4.5,'e':4},\n",
    "            'D':{'c':3.5,'d':4,'e':2.5}}"
   ]
  },
  {
   "cell_type": "code",
   "execution_count": 35,
   "metadata": {},
   "outputs": [],
   "source": [
    "## train = {'userId':{'movieId':rating}}\n",
    "def UserSimilarity(train):\n",
    "    \"\"\"根据余弦计算用户相似度\"\"\"\n",
    "    item_users = dict()\n",
    "    ## item_user= {'movieId':(userId1,userId2..),...}  建立电影：（用户）的反向表\n",
    "    for u,items in train.items():\n",
    "        for i in items.keys():\n",
    "            if i not in item_users:\n",
    "                item_users[i] = set()\n",
    "            item_users[i].add(u)\n",
    "   # print(\"item_users:\",item_users)\n",
    "    \n",
    "    # calculate co-ralated items between users\n",
    "    C = dict()\n",
    "    N = dict()\n",
    "    for movie,users in item_users.items():\n",
    "        for u in users:\n",
    "            if u not in N.keys():\n",
    "                N[u] = 0\n",
    "            N[u] += 1\n",
    "            for v in users:\n",
    "                if u == v: continue\n",
    "                if u not in C.keys():\n",
    "                    C[u] = {v:0}\n",
    "                elif v not in C[u].keys():\n",
    "                    C[u][v] = 0\n",
    "                C[u][v] += 1\n",
    "   # print(\"C:\",C)         \n",
    "    \n",
    "    # calculate simularity matrix W\n",
    "    W = dict()\n",
    "    for u, related_users in C.items():\n",
    "        for v,cuv in related_users.items():\n",
    "            if u not in W.keys():\n",
    "                W[u] = {v:0}\n",
    "            W[u][v] = cuv/math.sqrt(N[u]*N[v])\n",
    "    # print(\"W:\",W)\n",
    "    return W\n",
    "    "
   ]
  },
  {
   "cell_type": "code",
   "execution_count": 91,
   "metadata": {},
   "outputs": [],
   "source": [
    "def UserSimilarity_UserIIF(train):\n",
    "    \"\"\"改进UserCF。UserIIF:惩罚用户u和用户v共同兴趣列表中热门物品的影响\"\"\"\n",
    "    item_users = dict()\n",
    "    ## item_user= {'movieId':(userId1,userId2..),...}  建立电影：（用户）的反向表\n",
    "    for u,items in train.items():\n",
    "        for i in items.keys():\n",
    "            if i not in item_users:\n",
    "                item_users[i] = set()\n",
    "            item_users[i].add(u)\n",
    "   \n",
    "    # calculate co-ralated items between users\n",
    "    C = dict()\n",
    "    N = dict()\n",
    "    for movie,users in item_users.items():\n",
    "        for u in users:\n",
    "            if u not in N.keys():\n",
    "                N[u] = 0\n",
    "            N[u] += 1\n",
    "            for v in users:\n",
    "                if u == v: continue\n",
    "                if u not in C.keys():\n",
    "                    C[u] = {v:0}\n",
    "                elif v not in C[u].keys():\n",
    "                    C[u][v] = 0\n",
    "                C[u][v] += 1/math.log(1+len(users))\n",
    "   # print(\"C:\",C)         \n",
    "    \n",
    "    # calculate simularity matrix W\n",
    "    W = dict()\n",
    "    for u, related_users in C.items():\n",
    "        for v,cuv in related_users.items():\n",
    "            if u not in W.keys():\n",
    "                W[u] = {v:0}\n",
    "            W[u][v] = cuv/math.sqrt(N[u]*N[v])\n",
    "    # print(\"W:\",W)\n",
    "    return W"
   ]
  },
  {
   "cell_type": "code",
   "execution_count": 92,
   "metadata": {},
   "outputs": [
    {
     "data": {
      "text/plain": [
       "{'B': {'A': 0.37160360818355515, 'D': 0.37160360818355515},\n",
       " 'A': {'B': 0.37160360818355515,\n",
       "  'C': 0.37160360818355515,\n",
       "  'D': 0.3034130755422791},\n",
       " 'C': {'A': 0.37160360818355515, 'D': 0.37160360818355515},\n",
       " 'D': {'A': 0.3034130755422791,\n",
       "  'B': 0.37160360818355515,\n",
       "  'C': 0.37160360818355515}}"
      ]
     },
     "execution_count": 92,
     "metadata": {},
     "output_type": "execute_result"
    }
   ],
   "source": [
    "'''\n",
    "W = UserSimilarity(test_data)\n",
    "print(\"W:\",W)\n",
    "'''\n",
    "W = UserSimilarity_UserIIF(test_data)\n",
    "W"
   ]
  },
  {
   "cell_type": "code",
   "execution_count": 93,
   "metadata": {},
   "outputs": [],
   "source": [
    "def recommend(user,train,W,K):\n",
    "    rank = dict()\n",
    "    interacted_items = train[user]  # 用户user看过的电影\n",
    "    for v,wuv in sorted(W[user].items(),key = lambda d:d[1],reverse=True)[0:K]:\n",
    "        #  v:用户v  wuv:用户u对v的相似度\n",
    "        #print(\"user_v:%s wuv:%s\"%(v,wuv))\n",
    "        for i,rvi in train[v].items():\n",
    "            #print(\"movie_i:%s rvi:%s\"%(i,rvi))\n",
    "            # i:movie  rvi:用户v对电影i的评分\n",
    "            if i in interacted_items:continue\n",
    "            if i not in rank.keys():\n",
    "                rank[i] = 0\n",
    "            rank[i] += wuv*rvi\n",
    "    return rank"
   ]
  },
  {
   "cell_type": "code",
   "execution_count": 94,
   "metadata": {},
   "outputs": [
    {
     "data": {
      "text/plain": [
       "{'c': 2.734162001223975, 'e': 2.2449471215899184}"
      ]
     },
     "execution_count": 94,
     "metadata": {},
     "output_type": "execute_result"
    }
   ],
   "source": [
    "rank = recommend('A',test_data,W,3)\n",
    "rank"
   ]
  },
  {
   "cell_type": "code",
   "execution_count": null,
   "metadata": {},
   "outputs": [],
   "source": []
  }
 ],
 "metadata": {
  "kernelspec": {
   "display_name": "Python 3",
   "language": "python",
   "name": "python3"
  },
  "language_info": {
   "codemirror_mode": {
    "name": "ipython",
    "version": 3
   },
   "file_extension": ".py",
   "mimetype": "text/x-python",
   "name": "python",
   "nbconvert_exporter": "python",
   "pygments_lexer": "ipython3",
   "version": "3.7.4"
  }
 },
 "nbformat": 4,
 "nbformat_minor": 2
}
